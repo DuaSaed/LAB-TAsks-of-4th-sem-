{
 "cells": [
  {
   "cell_type": "code",
   "execution_count": null,
   "metadata": {},
   "outputs": [],
   "source": [
    "import pandas as pd\n",
    "import numpy as np\n",
    "import re\n",
    "from sklearn.model_selection import train_test_split\n",
    "\n",
    "from vaderSentiment.vaderSentiment import SentimentIntensityAnalyzer\n",
    "\n",
    "import tensorflow as tf\n",
    "from tensorflow.keras.preprocessing.text import Tokenizer\n",
    "from tensorflow.keras.preprocessing.sequence import pad_sequences\n",
    "from tensorflow.keras.models import Sequential\n",
    "from tensorflow.keras.layers import SimpleRNN, Dense, Embedding\n",
    "\n",
    "\n"
   ]
  },
  {
   "cell_type": "code",
   "execution_count": null,
   "metadata": {},
   "outputs": [],
   "source": [
    "# Initialize VADER Sentiment Analyzer\n",
    "analyzer = SentimentIntensityAnalyzer()\n",
    "\n",
    "# Define function\n",
    "def vader_sentiment(sentence):\n",
    "    sentiment = analyzer.polarity_scores(sentence)\n",
    "    print(f\"\\nSentence: {sentence}\")\n",
    "    print(f\"Positive: {sentiment['pos']*100:.2f}%\")\n",
    "    print(f\"Neutral: {sentiment['neu']*100:.2f}%\")\n",
    "    print(f\"Negative: {sentiment['neg']*100:.2f}%\")\n",
    "\n",
    "    if sentiment['compound'] >= 0.05:\n",
    "        print(\"Overall Sentiment: Positive ✅\")\n",
    "    elif sentiment['compound'] <= -0.05:\n",
    "        print(\"Overall Sentiment: Negative ❌\")\n",
    "    else:\n",
    "        print(\"Overall Sentiment: Neutral ➡️\")\n",
    "\n",
    "# Test examples\n",
    "sentences = [\n",
    "    \"I am good to everyone\",\n",
    "    \"But I hate humans\",\n",
    "    \"Its just ok \",\n",
    "    \"I m naruto fan \",\n",
    "    \"I love dark and trumatising Mangas and Mahawnas\"\n",
    "]\n",
    "\n",
    "for sentence in sentences:\n",
    "    vader_sentiment(sentence)\n"
   ]
  },
  {
   "cell_type": "code",
   "execution_count": null,
   "metadata": {},
   "outputs": [],
   "source": [
    "# Load the dataset (adjust path if needed)\n",
    "data = pd.read_csv('data/swiggy.csv')  # if inside data/ folder\n",
    "print(\"✅ Dataset Loaded!\")\n",
    "data.head()\n"
   ]
  }
 ],
 "metadata": {
  "kernelspec": {
   "display_name": "Python 3",
   "language": "python",
   "name": "python3"
  },
  "language_info": {
   "codemirror_mode": {
    "name": "ipython",
    "version": 3
   },
   "file_extension": ".py",
   "mimetype": "text/x-python",
   "name": "python",
   "nbconvert_exporter": "python",
   "pygments_lexer": "ipython3",
   "version": "3.10.11"
  }
 },
 "nbformat": 4,
 "nbformat_minor": 2
}
