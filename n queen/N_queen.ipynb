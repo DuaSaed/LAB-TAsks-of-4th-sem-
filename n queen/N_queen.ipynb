{
 "cells": [
  {
   "cell_type": "code",
   "execution_count": 1,
   "metadata": {},
   "outputs": [
    {
     "name": "stdout",
     "output_type": "stream",
     "text": [
      "Solving N-Queens for N = 4:\n",
      ". . Q .\n",
      "Q . . .\n",
      ". . . Q\n",
      ". Q . .\n"
     ]
    }
   ],
   "source": [
    "def solve_n_queens(n):\n",
    "   \n",
    "    board = [['.' for _ in range(n)] for _ in range(n)]\n",
    "    \n",
    "    def is_safe(row, col):\n",
    "        for j in range(col):\n",
    "            if board[row][j] == 'Q':\n",
    "                return False\n",
    "        \n",
    "        for i, j in zip(range(row, -1, -1), range(col, -1, -1)):\n",
    "            if board[i][j] == 'Q':\n",
    "                return False\n",
    "        \n",
    "        for i, j in zip(range(row, n, 1), range(col, -1, -1)):\n",
    "            if board[i][j] == 'Q':\n",
    "                return False\n",
    "        \n",
    "        return True\n",
    "    \n",
    "    def solve(col):\n",
    "        if col >= n:\n",
    "            return True\n",
    "        \n",
    "        for i in range(n):\n",
    "            if is_safe(i, col):\n",
    "                board[i][col] = 'Q'\n",
    "                \n",
    "                if solve(col + 1):\n",
    "                    return True\n",
    "                \n",
    "                board[i][col] = '.'\n",
    "        \n",
    "        return False\n",
    "    \n",
    "    if solve(0):\n",
    "        for row in board:\n",
    "            print(' '.join(row))\n",
    "    else:\n",
    "        print(f\"No solution exists for N = {n}\")\n",
    "\n",
    "n = 4\n",
    "print(f\"Solving N-Queens for N = {n}:\")\n",
    "solve_n_queens(n)\n",
    "\n"
   ]
  }
 ],
 "metadata": {
  "kernelspec": {
   "display_name": "Python 3",
   "language": "python",
   "name": "python3"
  },
  "language_info": {
   "codemirror_mode": {
    "name": "ipython",
    "version": 3
   },
   "file_extension": ".py",
   "mimetype": "text/x-python",
   "name": "python",
   "nbconvert_exporter": "python",
   "pygments_lexer": "ipython3",
   "version": "3.12.0"
  }
 },
 "nbformat": 4,
 "nbformat_minor": 2
}
